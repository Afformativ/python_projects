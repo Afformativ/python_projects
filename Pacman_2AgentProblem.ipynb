{
  "cells": [
    {
      "cell_type": "markdown",
      "metadata": {
        "id": "N0uNSDp8Z0EU"
      },
      "source": [
        "# 2-agent pacman \n",
        "\n",
        "## Oleksandr Hrabar"
      ]
    },
    {
      "cell_type": "markdown",
      "metadata": {
        "id": "WWS_PwPaZ0EU"
      },
      "source": [
        "In this project we'll try to solve the **2 agent pacman problem** using two uninformed search algorithms named bfs and ids; and an informed search algorithm called A*."
      ]
    },
    {
      "cell_type": "markdown",
      "metadata": {
        "id": "s03_pGL0Z0EU"
      },
      "source": [
        "## Initializations\n",
        "Adding necessary libraries"
      ]
    },
    {
      "cell_type": "code",
      "execution_count": null,
      "metadata": {
        "id": "YGDGz2Y1Z0EU"
      },
      "outputs": [],
      "source": [
        "import collections\n",
        "import copy\n",
        "import math"
      ]
    },
    {
      "cell_type": "markdown",
      "metadata": {
        "id": "J-WwqDamZ0EV"
      },
      "source": [
        "Defining constants:"
      ]
    },
    {
      "cell_type": "code",
      "execution_count": null,
      "metadata": {
        "id": "T7WlYuCHZ0EV"
      },
      "outputs": [],
      "source": [
        "P_MAN = 'P'\n",
        "Q_MAN = 'Q'\n",
        "WALL = '%'\n",
        "P_FOOD = '1'\n",
        "Q_FOOD = '2'\n",
        "B_FOOD = '3'\n",
        "EMPTY = ' '\n",
        "FILENAME = 'test2'"
      ]
    },
    {
      "cell_type": "markdown",
      "metadata": {
        "id": "bF86dNqeZ0EV"
      },
      "source": [
        "## Helper Functions"
      ]
    },
    {
      "cell_type": "markdown",
      "metadata": {
        "id": "Ul63WQqYZ0EV"
      },
      "source": [
        "### Read map\n",
        "The function below reads the map from file and returns a 2d list containing map characters."
      ]
    },
    {
      "cell_type": "code",
      "execution_count": null,
      "metadata": {
        "id": "LVqWQ8oSZ0EV"
      },
      "outputs": [],
      "source": [
        "def read_map(filename):\n",
        "    file = open(filename)\n",
        "    input_map = []\n",
        "    \n",
        "    for line in file:\n",
        "        if line[-1] == '\\n':\n",
        "            input_map.append(list(line[:-1]))\n",
        "        else:\n",
        "            input_map.append(list(line))\n",
        "    \n",
        "    return input_map"
      ]
    },
    {
      "cell_type": "markdown",
      "metadata": {
        "id": "IN7pJHZrZ0EV"
      },
      "source": [
        "Reading input map globally:"
      ]
    },
    {
      "cell_type": "code",
      "execution_count": null,
      "metadata": {
        "id": "GYkC6G8gZ0EV"
      },
      "outputs": [],
      "source": [
        "input_map = read_map(FILENAME)"
      ]
    },
    {
      "cell_type": "markdown",
      "metadata": {
        "id": "Lkh4-oAKZ0EV"
      },
      "source": [
        "### Get pacmans locations\n",
        "Following function returns the location of specified pacman as a tuple of x, y location."
      ]
    },
    {
      "cell_type": "code",
      "execution_count": null,
      "metadata": {
        "id": "Y5eGePE6Z0EV"
      },
      "outputs": [],
      "source": [
        "def get_man_location(man):\n",
        "    for i, line in enumerate(input_map):\n",
        "        for j, char in enumerate(line):\n",
        "            if char == man:\n",
        "                return (i, j)"
      ]
    },
    {
      "cell_type": "markdown",
      "metadata": {
        "id": "zCTXZWt-Z0EW"
      },
      "source": [
        "### Get foods locations\n",
        "We use the function below which returns foods of specified type as a list of tuples representing x, y locations."
      ]
    },
    {
      "cell_type": "code",
      "execution_count": null,
      "metadata": {
        "id": "vSnB-SIuZ0EW"
      },
      "outputs": [],
      "source": [
        "def get_foods_location(food):\n",
        "    foods = []\n",
        "    for i, line in enumerate(input_map):\n",
        "        for j, char in enumerate(line):\n",
        "            if char == food:\n",
        "                foods.append((i, j))\n",
        "    return foods"
      ]
    },
    {
      "cell_type": "markdown",
      "metadata": {
        "id": "pYF5SUiEZ0EW"
      },
      "source": [
        "### Print state branch\n",
        "Following functions are used to print changes on map on each action utill the given state is reached."
      ]
    },
    {
      "cell_type": "code",
      "execution_count": null,
      "metadata": {
        "id": "9iE986G8Z0EW"
      },
      "outputs": [],
      "source": [
        "def get_state_map(state):\n",
        "    state_map = [ [' '] * len(input_map[0]) for _ in range(len(input_map))]\n",
        "    \n",
        "    state_map[state.p_man[0]][state.p_man[1]] = P_MAN\n",
        "    state_map[state.q_man[0]][state.q_man[1]] = Q_MAN\n",
        "    \n",
        "    for food in state.p_foods:\n",
        "        state_map[food[0]][food[1]] = P_FOOD\n",
        "        \n",
        "    for food in state.q_foods:\n",
        "        state_map[food[0]][food[1]] = Q_FOOD\n",
        "\n",
        "    for food in state.b_foods:\n",
        "        state_map[food[0]][food[1]] = B_FOOD   \n",
        "        \n",
        "    for i, line in enumerate(input_map):\n",
        "        for j, char in enumerate(line):\n",
        "            if char == WALL:\n",
        "                state_map[i][j] = WALL\n",
        "    \n",
        "    return state_map"
      ]
    },
    {
      "cell_type": "code",
      "execution_count": null,
      "metadata": {
        "id": "TyeuDa1TZ0EW"
      },
      "outputs": [],
      "source": [
        "def print_state_map(state_map):\n",
        "    for line in state_map:\n",
        "        print(''.join(line))"
      ]
    },
    {
      "cell_type": "code",
      "execution_count": null,
      "metadata": {
        "id": "HfSV_pSHZ0EW"
      },
      "outputs": [],
      "source": [
        "def print_state_branch(state):\n",
        "    s = collections.deque()\n",
        "    \n",
        "    while state:\n",
        "        s.append(state)\n",
        "        state = state.parent\n",
        "        \n",
        "    while s:\n",
        "        state = s.pop()\n",
        "        state_map = get_state_map(state)\n",
        "        print_state_map(state_map)\n",
        "        print('-' * 25)"
      ]
    },
    {
      "cell_type": "markdown",
      "metadata": {
        "id": "cu6UR33fZ0EW"
      },
      "source": [
        "### Show state results"
      ]
    },
    {
      "cell_type": "markdown",
      "metadata": {
        "id": "oE8osBMwZ0EW"
      },
      "source": [
        "The function below is used to show some details about the goal state including state depth, states count and unique states count."
      ]
    },
    {
      "cell_type": "code",
      "execution_count": null,
      "metadata": {
        "id": "-vOJet6EZ0EW"
      },
      "outputs": [],
      "source": [
        "def finalize(state, states_count, uniques_count):\n",
        "    print(\"Depth: %s\" % state.depth)\n",
        "    print(\"States Count: %s\" % states_count)\n",
        "    print(\"Unique States Count: %d\" % uniques_count)"
      ]
    },
    {
      "cell_type": "markdown",
      "metadata": {
        "id": "DFONbGWoZ0EW"
      },
      "source": [
        "## Search Characteristic\n",
        "The problem is modeled to a search problem using the following components:"
      ]
    },
    {
      "cell_type": "markdown",
      "metadata": {
        "id": "OHdbj6e7Z0EW"
      },
      "source": [
        "### States\n",
        "States of this problem consist os locations of current P and Q pacmans and foods on map. The implementation of State class is shown below:"
      ]
    },
    {
      "cell_type": "code",
      "execution_count": null,
      "metadata": {
        "id": "R6YDWKsIZ0EX"
      },
      "outputs": [],
      "source": [
        "class State:\n",
        "    def __init__(self, parent, depth, p_man, q_man, p_foods, q_foods, b_foods):\n",
        "        self.parent = parent\n",
        "        self.depth = depth\n",
        "        self.p_man = p_man\n",
        "        self.q_man = q_man\n",
        "        self.p_foods = p_foods\n",
        "        self.q_foods = q_foods\n",
        "        self.b_foods = b_foods\n",
        "        \n",
        "    def __eq__(self, other):\n",
        "        return (self.p_man == other.p_man and\n",
        "                self.q_man == other.q_man and\n",
        "                self.p_foods == other.p_foods and\n",
        "                self.q_foods == other.q_foods and\n",
        "                self.b_foods == other.b_foods)\n",
        "    \n",
        "    def __lt__(self, other):\n",
        "        return self.depth + get_heuristic(self) < other.depth + get_heuristic(other)\n",
        "    \n",
        "    def __hash__(self):\n",
        "        return hash((self.p_man, self.q_man, str(self.p_foods), str(self.q_foods), str(self.b_foods)))\n",
        "    \n",
        "    def get_child(self):\n",
        "        new_p_man = copy.deepcopy(self.p_man)\n",
        "        new_q_man = copy.deepcopy(self.q_man)\n",
        "        new_p_foods = copy.deepcopy(self.p_foods)\n",
        "        new_q_foods = copy.deepcopy(self.q_foods)\n",
        "        new_b_foods = copy.deepcopy(self.b_foods)\n",
        "        \n",
        "        return State(self, self.depth + 1, new_p_man, new_q_man, new_p_foods, new_q_foods, new_b_foods)"
      ]
    },
    {
      "cell_type": "markdown",
      "metadata": {
        "id": "JsRXBnYIZ0EX"
      },
      "source": [
        "`p_man` represents **P** pacman location, `q_man` represents **Q** pacman location and `p_foods`, `q_foods`, `b_foods` represent locations of legal foods for **P** pacman, **Q** pacman and both pacmans respectively.\n",
        "\n",
        "Some node specifications are also stored on State class to speed up the program which are `parent` which indicates creator (parent) of the current state and `depth` which indicates depth of the reaching state in state space tree.\n",
        "\n",
        "\n",
        "Functions `__eq__` and `__hash__` use pacmans and foods locations to distinguish between different states.\n",
        "\n",
        "`__lt__` function is used to calculate the f(n) function of node n in the A* search algorithm.\n",
        "\n",
        "Function `get_child` is used to get a child state of calling state with parent equal to calling state and depth equal to calling state's depth + 1 and other variables equal to parent."
      ]
    },
    {
      "cell_type": "markdown",
      "metadata": {
        "id": "iLE09lhkZ0EX"
      },
      "source": [
        "### Initial State\n",
        "The first state consists of initial locations of pacmans and foods in map. The following function is used to create initial state."
      ]
    },
    {
      "cell_type": "code",
      "execution_count": null,
      "metadata": {
        "id": "cF5_WKwMZ0EX"
      },
      "outputs": [],
      "source": [
        "def create_initial_state():\n",
        "    depth = 0\n",
        "    parent = None\n",
        "    p_man = get_man_location(P_MAN)\n",
        "    q_man = get_man_location(Q_MAN)\n",
        "    p_foods = get_foods_location(P_FOOD)\n",
        "    q_foods = get_foods_location(Q_FOOD)\n",
        "    b_foods = get_foods_location(B_FOOD)\n",
        "    \n",
        "    return State(parent, depth, p_man, q_man, p_foods, q_foods, b_foods)"
      ]
    },
    {
      "cell_type": "markdown",
      "metadata": {
        "id": "Qm_8DLZBZ0EX"
      },
      "source": [
        "### Actions\n",
        "For each pacman there are 4 available actions which means there are totally 8 actions.\n",
        "\n",
        "On each action one of the pacmans moves in up or right or down or left direction, then if there is legal pacman's food which are **1**, **3** for **P** pacman and **2**, **3** for **Q** pacman in the new position, agent eats the food and returns the new state, otherwise if there is illegal food or wall or other pacman in new location, action returns failure.\n",
        "\n",
        "The implementation of action functions are shown below. on each action function call, a new location for moving pacman is calculated. If the new location is verified by `validate_new_location` function, `apply_action` function will be called to get a new state based on the new position. At the end, new state is returned if it's validated otherwise None is returned."
      ]
    },
    {
      "cell_type": "code",
      "execution_count": null,
      "metadata": {
        "id": "ZC0X82WtZ0EX"
      },
      "outputs": [],
      "source": [
        "\n",
        "def action_right(state, man):\n",
        "    new_x = None\n",
        "    new_y = None\n",
        "    \n",
        "    if(man == P_MAN):\n",
        "        new_x = state.p_man[0]+1\n",
        "        new_y = state.p_man[1]\n",
        "    elif(man == Q_MAN):\n",
        "        new_x = state.q_man[0]+1\n",
        "        new_y = state.q_man[1]\n",
        "    \n",
        "    if validate_new_location(state, man, new_x, new_y):\n",
        "        new_state = state.get_child()\n",
        "        new_state = apply_action(new_state, man, new_x, new_y)\n",
        "        return new_state\n",
        "    else:\n",
        "        return None"
      ]
    },
    {
      "cell_type": "code",
      "execution_count": null,
      "metadata": {
        "id": "hA_M0c_HZ0EX"
      },
      "outputs": [],
      "source": [
        "def action_up(state, man):\n",
        "    new_x = None\n",
        "    new_y = None\n",
        "    \n",
        "    if(man == P_MAN):\n",
        "        new_x = state.p_man[0]\n",
        "        new_y = state.p_man[1]+1\n",
        "    elif(man == Q_MAN):\n",
        "        new_x = state.q_man[0]\n",
        "        new_y = state.q_man[1]+1\n",
        "    if validate_new_location(state, man, new_x, new_y):\n",
        "        new_state = state.get_child()\n",
        "        new_state = apply_action(new_state, man, new_x, new_y)\n",
        "        return new_state\n",
        "    else:\n",
        "        return None"
      ]
    },
    {
      "cell_type": "code",
      "execution_count": null,
      "metadata": {
        "id": "o5QlBdOCZ0EX"
      },
      "outputs": [],
      "source": [
        "def action_down(state, man):\n",
        "    new_x = None\n",
        "    new_y = None\n",
        "    \n",
        "    if(man == P_MAN):\n",
        "        new_x = state.p_man[0]\n",
        "        new_y = state.p_man[1]-1\n",
        "    elif(man == Q_MAN):\n",
        "        new_x = state.q_man[0]\n",
        "        new_y = state.q_man[1]-1\n",
        "    if validate_new_location(state, man, new_x, new_y):\n",
        "        new_state = state.get_child()\n",
        "        new_state = apply_action(new_state, man, new_x, new_y)\n",
        "        return new_state\n",
        "    else:\n",
        "        return None"
      ]
    },
    {
      "cell_type": "code",
      "execution_count": null,
      "metadata": {
        "id": "jsUTCK1CZ0EX"
      },
      "outputs": [],
      "source": [
        "def action_left(state, man):\n",
        "    new_x = None\n",
        "    new_y = None\n",
        "    \n",
        "    if(man == P_MAN):\n",
        "        new_x = state.p_man[0]-1\n",
        "        new_y = state.p_man[1]\n",
        "    elif(man == Q_MAN):\n",
        "        new_x = state.q_man[0]-1\n",
        "        new_y = state.q_man[1]\n",
        "    if validate_new_location(state, man, new_x, new_y):\n",
        "        new_state = state.get_child()\n",
        "        new_state = apply_action(new_state, man, new_x, new_y)\n",
        "        return new_state\n",
        "    else:\n",
        "        return None"
      ]
    },
    {
      "cell_type": "markdown",
      "metadata": {
        "id": "s2uzpDUYZ0EX"
      },
      "source": [
        "The function below returns a list containing all validated states resulting from the given state's actions."
      ]
    },
    {
      "cell_type": "code",
      "execution_count": null,
      "metadata": {
        "id": "vey_C7Q7Z0EX"
      },
      "outputs": [],
      "source": [
        "def make_actions(state):\n",
        "    children = []\n",
        "    moves=[]\n",
        "    actions = [action_right, action_down, action_left, action_up]\n",
        "    for man in (P_MAN, Q_MAN):\n",
        "        for action in actions:\n",
        "            child_state = action(state, man)\n",
        "            if(child_state is not None):\n",
        "                children.append(child_state)\n",
        "            if man==P_MAN and action==action_right:\n",
        "              moves.append('p_right')\n",
        "            if man==Q_MAN and action==action_right:\n",
        "              moves.append('q_right')\n",
        "    #print(moves)\n",
        "    return children"
      ]
    },
    {
      "cell_type": "markdown",
      "metadata": {
        "id": "Ew-jInBlZ0EY"
      },
      "source": [
        "The following functions check the new location of the specified pacman. If the new location contains wall or other pacman or illegal food, it returns false otherwise it returns true."
      ]
    },
    {
      "cell_type": "code",
      "execution_count": null,
      "metadata": {
        "id": "ouIFn_xsZ0EY"
      },
      "outputs": [],
      "source": [
        "def validate_new_location(state, man, new_x, new_y):\n",
        "    if (input_map[new_x][new_y] == WALL):\n",
        "        return False\n",
        "    elif (man == P_MAN and state.q_man == (new_x, new_y)):\n",
        "        return False\n",
        "    elif (man == Q_MAN and state.p_man == (new_x, new_y)):\n",
        "        return False\n",
        "    elif (man == P_MAN and (new_x, new_y) in state.q_foods):\n",
        "        return False\n",
        "    elif (man == Q_MAN and (new_x, new_y) in state.p_foods):\n",
        "        return False\n",
        "    return True"
      ]
    },
    {
      "cell_type": "markdown",
      "metadata": {
        "id": "DOA3h6dFZ0EY"
      },
      "source": [
        "We use the function below to apply action with new position. This function changes specified pacman location and removes food on new position if available."
      ]
    },
    {
      "cell_type": "code",
      "execution_count": null,
      "metadata": {
        "id": "x4K37XCMZ0EY"
      },
      "outputs": [],
      "source": [
        "def apply_action(state, man, new_x, new_y):\n",
        "    if (man == P_MAN):\n",
        "        if((new_x, new_y) in state.p_foods):\n",
        "            state.p_foods.remove((new_x, new_y))\n",
        "        elif((new_x, new_y) in state.b_foods):\n",
        "            state.b_foods.remove((new_x, new_y))\n",
        "        state.p_man = (new_x, new_y)\n",
        "    elif (man == Q_MAN):\n",
        "        if((new_x, new_y) in state.q_foods):\n",
        "            state.q_foods.remove((new_x, new_y))\n",
        "        elif((new_x, new_y) in state.b_foods):\n",
        "            state.b_foods.remove((new_x, new_y))\n",
        "        state.q_man = (new_x, new_y)\n",
        "    return state"
      ]
    },
    {
      "cell_type": "markdown",
      "metadata": {
        "id": "G7lNpdCsZ0EY"
      },
      "source": [
        "### Goal Test\n",
        "Goal state is a state which includes no food. \n",
        "\n",
        "\n",
        "The following function is used to recognize goal state. This functions checks if there is any food left by checking length of state's food lists."
      ]
    },
    {
      "cell_type": "code",
      "execution_count": null,
      "metadata": {
        "id": "h8TZhdi7Z0EY"
      },
      "outputs": [],
      "source": [
        "def is_goal(state):\n",
        "    return len(state.p_foods) == 0 and len(state.q_foods) == 0 and len(state.b_foods) == 0"
      ]
    },
    {
      "cell_type": "markdown",
      "metadata": {
        "id": "hbB_2QwqZ0EY"
      },
      "source": [
        "### Path Cost\n",
        "Path cost of edges are considered 1 since each action has the same cost."
      ]
    },
    {
      "cell_type": "markdown",
      "metadata": {
        "id": "NTKieKIuZ0EY"
      },
      "source": [
        "## Algorithms"
      ]
    },
    {
      "cell_type": "markdown",
      "metadata": {
        "id": "Zcn0idWmZ0EY"
      },
      "source": [
        "### Definitions"
      ]
    },
    {
      "cell_type": "markdown",
      "metadata": {
        "id": "Knp6nfQeZ0EY"
      },
      "source": [
        "**b**: branching factor <br />\n",
        "**d**: depth of the shallowest solution <br />\n",
        "**m**: maximum depth of the search tree"
      ]
    },
    {
      "cell_type": "markdown",
      "metadata": {
        "id": "RQWS6YHaZ0EY"
      },
      "source": [
        "### BFS\n",
        "Breadth-first search is a simple strategy in which the root node is expanded first, then all the\n",
        "successors of the root node are expanded next, then their successors, and so on. In general,\n",
        "all the nodes are expanded at a given depth in the search tree before any nodes at the next\n",
        "level are expanded.\n",
        "\n",
        "BFS uses memory space of O($b^d$) and time complexity of O($b^d$). BFS finds the optimal answer if all nodes have the path cost as 1 and is complete if b is finite."
      ]
    },
    {
      "cell_type": "markdown",
      "metadata": {
        "id": "XHRzGXWiZ0EY"
      },
      "source": [
        "We use the function below to implement the Breadth-first search algorithm. We first create an initial state with initial locations of pacmans and foods on map. We check if the initial state is goal in the beginning since we're checking being goal state on state's children which are created by state's actions to speed up the algorithm. A First-in First-out (FIFO) queue is used to select expanding node. On each state, results of state's actions are pushed to queue. By using the FIFO property of queue, nodes are expanded by the depth of reaching them in this situation. An explored set is used to keep visited states to prevent expanding repetitious states. When adding new states, new state is also added to explored state to also check duplicated state in frontier queue."
      ]
    },
    {
      "cell_type": "code",
      "execution_count": null,
      "metadata": {
        "id": "G079Pn0BZ0EY"
      },
      "outputs": [],
      "source": [
        "def bfs():    \n",
        "    initial_state = create_initial_state()\n",
        "    states_count = 1\n",
        "    \n",
        "    if(is_goal(initial_state)):\n",
        "        finalize(initial_state, states_count, states_count)\n",
        "        return\n",
        "    \n",
        "    frontier = collections.deque([initial_state])\n",
        "    explored = set()\n",
        "    \n",
        "    explored.add(initial_state)\n",
        "    \n",
        "    while(frontier):\n",
        "        state = frontier.popleft()\n",
        "        children = make_actions(state)\n",
        "        \n",
        "        for child_state in children:\n",
        "            states_count += 1\n",
        "            if(child_state not in explored): \n",
        "                if(is_goal(child_state)):\n",
        "                    finalize(child_state, states_count, len(explored))\n",
        "                    return\n",
        "                else:\n",
        "                    explored.add(child_state)\n",
        "                    frontier.append(child_state)"
      ]
    },
    {
      "cell_type": "markdown",
      "metadata": {
        "id": "ExSvq2FWZ0EY"
      },
      "source": [
        "Results"
      ]
    },
    {
      "cell_type": "code",
      "execution_count": null,
      "metadata": {
        "colab": {
          "base_uri": "https://localhost:8080/"
        },
        "id": "5A-xsmXMZ0EY",
        "outputId": "3769c2de-24cd-433a-df59-7d24097ec946",
        "scrolled": true
      },
      "outputs": [
        {
          "output_type": "stream",
          "name": "stdout",
          "text": [
            "Depth: 17\n",
            "States Count: 14950\n",
            "Unique States Count: 3544\n",
            "Time: 0.4185373783111572 seconds\n"
          ]
        }
      ],
      "source": [
        "import time\n",
        "start_time = time.time()\n",
        "bfs()\n",
        "print(\"Time: %s seconds\" % (time.time() - start_time))"
      ]
    },
    {
      "cell_type": "markdown",
      "metadata": {
        "id": "efBq4X4VZ0EZ"
      },
      "source": [
        "## IDS\n",
        "Iterative deepening search (or iterative deepening depth-first search) is a general strategy,\n",
        "often used in combination with depth-first tree search, that finds the best depth limit. It does\n",
        "this by gradually increasing the limit—first 0, then 1, then 2, and so on—until a goal is found.\n",
        "\n",
        "IDS uses memory space of O($b.d$) and time complexity of O($b^d$) . IDS takes advantage of low memory space usage of dfs and optimality of bfs by iterating level-based."
      ]
    },
    {
      "cell_type": "markdown",
      "metadata": {
        "id": "urxlL8u9Z0Ed"
      },
      "source": [
        "The function below shows the implementation of Iterative deepening search algorithm. It uses `dls` function which is depth limited depth first search. dls uses stack as the frontier data structure. By using stack, state's child states are explored in the way that always the deepest state is explored. by using dls we have a limit on depth, if new state's depth is more than specified depth, it's not added to frontier. We also consider state depth to distinguish between duplicate states since an state in dfs can be explored with lower depth if there's a lower path to state in another branch of the starting state's node."
      ]
    },
    {
      "cell_type": "code",
      "execution_count": null,
      "metadata": {
        "id": "23qiJ0omZ0Ed"
      },
      "outputs": [],
      "source": [
        "ids_states_count = 0\n",
        "ids_uniques_count = 0\n",
        "\n",
        "def ids():\n",
        "    global ids_states_count\n",
        "    global ids_uniques_count\n",
        "    ids_states_count = 0\n",
        "    ids_uniques_count = 0\n",
        "\n",
        "    result = None\n",
        "    depth = 0\n",
        "    \n",
        "    while result is None:\n",
        "        result = dls(depth)\n",
        "        depth += 1\n",
        "    \n",
        "    finalize(result, ids_states_count, ids_uniques_count)"
      ]
    },
    {
      "cell_type": "markdown",
      "metadata": {
        "id": "cTtwlwMhZ0Ed"
      },
      "source": [
        "Depth limited search implementation:"
      ]
    },
    {
      "cell_type": "code",
      "execution_count": null,
      "metadata": {
        "id": "iMowYWjeZ0Ed"
      },
      "outputs": [],
      "source": [
        "def dls(depth):\n",
        "    global ids_states_count\n",
        "    global ids_uniques_count\n",
        "    \n",
        "    initial_state = create_initial_state()\n",
        "    \n",
        "    if is_goal(initial_state):\n",
        "        return initial_node\n",
        "    \n",
        "    ids_states_count += 1\n",
        "    ids_uniques_count += 1\n",
        "\n",
        "    frontier = collections.deque([initial_state])\n",
        "    explored = set()\n",
        "    \n",
        "    while(frontier):\n",
        "        state = frontier.pop()\n",
        "        explored.add((state, state.depth))\n",
        "        \n",
        "        if(is_goal(state)):\n",
        "            return state\n",
        "        \n",
        "        if(state.depth < depth):\n",
        "            children = make_actions(state)\n",
        "\n",
        "            for child_state in children:\n",
        "                ids_states_count += 1\n",
        "                if((child_state, child_state.depth) not in explored): \n",
        "                    ids_uniques_count += 1\n",
        "                    frontier.append(child_state)"
      ]
    },
    {
      "cell_type": "markdown",
      "metadata": {
        "id": "iyada5H5Z0Ed"
      },
      "source": [
        "Results:"
      ]
    },
    {
      "cell_type": "code",
      "execution_count": null,
      "metadata": {
        "colab": {
          "base_uri": "https://localhost:8080/"
        },
        "id": "n-fxb__oZ0Ed",
        "outputId": "dc759c91-54d7-46d0-cb65-145a18816ffd"
      },
      "outputs": [
        {
          "output_type": "stream",
          "name": "stdout",
          "text": [
            "Depth: 17\n",
            "States Count: 151669\n",
            "Unique States Count: 39924\n",
            "Time: 7.345566987991333 seconds\n"
          ]
        }
      ],
      "source": [
        "import time\n",
        "start_time = time.time()\n",
        "ids()\n",
        "print(\"Time: %s seconds\" % (time.time() - start_time))"
      ]
    },
    {
      "cell_type": "markdown",
      "metadata": {
        "id": "rOEbQErnZ0Ed"
      },
      "source": [
        "## A*\n",
        "A* is an uninformed search algorithm which evaluates nodes by combining g(n), the cost to reach the node, and h(n), the cost to get from the node to the goal:"
      ]
    },
    {
      "cell_type": "markdown",
      "metadata": {
        "id": "Is-Zwh5SZ0Ed"
      },
      "source": [
        "$$f (n) = g(n) + h(n) $$"
      ]
    },
    {
      "cell_type": "markdown",
      "metadata": {
        "id": "vhXpbOksZ0Ed"
      },
      "source": [
        "f(n) is the estimated cost of the cheapest solution through n. We can select which node to expand by selecting the node which has the lowest f(node) function to find the cheapest solution. By using an admissible and consistent heuristic function in Graph search, A* search is both optimal and complete."
      ]
    },
    {
      "cell_type": "markdown",
      "metadata": {
        "id": "i5EEuQBnZ0Ed"
      },
      "source": [
        "The heuristic function chosen in this problem is **minimum manhattan distance of nearest legal food to P and nearest legal food to Q**.\n",
        "\n",
        "This heuristic is admissible because in optimal solution doing any move adds one step to get closer to goal state and in further steps deleting foods in optimal path still gives an state in which the heuristic is still lower than the real path and we can never reach goal state with lower moves so this function never overestimates the real path cost to goal.\n",
        "\n",
        "To check consistency we can consider the relaxed problem of the given problem in which agent makes shortcut by removing walls in map. The exact solution to this relaxed problem gives the optimal heuristic for the given problem."
      ]
    },
    {
      "cell_type": "markdown",
      "metadata": {
        "id": "pD-EftIPZ0Ed"
      },
      "source": [
        "The implementation of A* search is shown in codes below:"
      ]
    },
    {
      "cell_type": "code",
      "execution_count": null,
      "metadata": {
        "id": "XikTDL7hZ0Ed"
      },
      "outputs": [],
      "source": [
        "def is_valid_cord(state, cord):\n",
        "    return (cord[0] < len(input_map) and\n",
        "            cord[0] > 0 and\n",
        "            cord[1] < len(input_map[0]) and\n",
        "            cord[1] > 0)"
      ]
    },
    {
      "cell_type": "code",
      "execution_count": null,
      "metadata": {
        "id": "s5qhVpCBZ0Ed"
      },
      "outputs": [],
      "source": [
        "def get_manhattan_distance(cord1, cord2):\n",
        "    return abs(cord1[0] - cord2[0]) + abs(cord1[1] - cord2[1])"
      ]
    },
    {
      "cell_type": "markdown",
      "metadata": {
        "id": "BxoF6nFRZ0Ee"
      },
      "source": [
        "A function which returns the minimum manhattan distance of nearest legal food to P and nearest legal food to Q which is used in heuristic function:"
      ]
    },
    {
      "cell_type": "code",
      "execution_count": null,
      "metadata": {
        "id": "f9RZq4wLZ0Ee"
      },
      "outputs": [],
      "source": [
        "def get_closest_food_distance(state):        \n",
        "    min_distance = math.inf\n",
        "    \n",
        "    for food in state.p_foods:\n",
        "        distance = get_manhattan_distance(state.p_man, food)\n",
        "        min_distance = min(min_distance, distance)\n",
        "       \n",
        "    for food in state.q_foods:\n",
        "        distance = get_manhattan_distance(state.q_man, food)\n",
        "        min_distance = min(min_distance, distance)\n",
        "            \n",
        "    for man in (state.p_man, state.q_man):\n",
        "        for food in state.b_foods:\n",
        "            distance = get_manhattan_distance(man, food)\n",
        "            min_distance = min(min_distance, distance)\n",
        "        \n",
        "    return min_distance"
      ]
    },
    {
      "cell_type": "code",
      "execution_count": null,
      "metadata": {
        "id": "Ej7nFWgkZ0Ee"
      },
      "outputs": [],
      "source": [
        "def get_heuristic(state):\n",
        "    return get_closest_food_distance(state)"
      ]
    },
    {
      "cell_type": "markdown",
      "metadata": {
        "id": "JtocXT94Z0Ee"
      },
      "source": [
        "A* implementation is shown below. It uses a priority queue to select next node to expand by using the `__lt__` function in State class which represents the f(n) function of node n."
      ]
    },
    {
      "cell_type": "code",
      "execution_count": null,
      "metadata": {
        "id": "1QBvUsJuZ0Ee"
      },
      "outputs": [],
      "source": [
        "from queue import PriorityQueue\n",
        "\n",
        "def a_star():\n",
        "    initial_state = create_initial_state()\n",
        "    states_count = 1\n",
        "    \n",
        "    if(is_goal(initial_state)):\n",
        "        finalize(initial_state, states_count, states_count)\n",
        "        return\n",
        "        \n",
        "    frontier = PriorityQueue()\n",
        "    frontier.put(initial_state)\n",
        "    \n",
        "    explored = set()\n",
        "    explored.add(initial_state)\n",
        "    \n",
        "    while(not frontier.empty()):\n",
        "        state = frontier.get()\n",
        "        children = make_actions(state)\n",
        "        \n",
        "        for child_state in children:\n",
        "            states_count += 1\n",
        "            if(child_state not in explored):  \n",
        "                if(is_goal(child_state)):\n",
        "                    finalize(child_state, states_count, len(explored))\n",
        "                    return\n",
        "                else:\n",
        "                    explored.add(child_state)\n",
        "                    frontier.put(child_state)"
      ]
    },
    {
      "cell_type": "markdown",
      "metadata": {
        "id": "owIB8ZzeZ0Ee"
      },
      "source": [
        "Results:"
      ]
    },
    {
      "cell_type": "code",
      "execution_count": null,
      "metadata": {
        "colab": {
          "base_uri": "https://localhost:8080/"
        },
        "id": "UveeJtx_Z0Ee",
        "outputId": "2f3df88d-3091-463e-ba22-ee99cf2a722b"
      },
      "outputs": [
        {
          "output_type": "stream",
          "name": "stdout",
          "text": [
            "Depth: 17\n",
            "States Count: 11224\n",
            "Unique States Count: 3007\n",
            "Time: 0.4915952682495117 seconds\n"
          ]
        }
      ],
      "source": [
        "import time\n",
        "start_time = time.time()\n",
        "a_star()\n",
        "print(\"Time: %s seconds\" % (time.time() - start_time))"
      ]
    },
    {
      "cell_type": "markdown",
      "metadata": {
        "id": "oNadyoToZ0Ee"
      },
      "source": [
        "## Results\n",
        "(Values in parantheses for IDS row indicate only states count on optimal depth)"
      ]
    },
    {
      "cell_type": "markdown",
      "metadata": {
        "id": "sqFWHi-_Z0Ee"
      },
      "source": [
        "### test 1"
      ]
    },
    {
      "cell_type": "markdown",
      "metadata": {
        "id": "6hMsKE1TZ0Ee"
      },
      "source": [
        "| Algorithm  | Answer Depth | Visited States | Unique Visited States | Execution time |\n",
        "| :--------: | :----------: | :------------: | :-------------------: | :------------: |\n",
        "| BFS        | 33           | 650908         | 143043                | 12.9154s       |\n",
        "| IDS        | 33           | 19389321 (1410451)      | 4542797 (320892)              | 387.1376s      |\n",
        "| A*         | 33           | 505871        | 118879                | 17.8117s       |"
      ]
    },
    {
      "cell_type": "markdown",
      "metadata": {
        "id": "U-f-oKeTZ0Ee"
      },
      "source": [
        "### test 2"
      ]
    },
    {
      "cell_type": "markdown",
      "metadata": {
        "id": "YPu6DtTHZ0Ee"
      },
      "source": [
        "| Algorithm  | Answer Depth | Visited States | Unique Visited States | Execution time |\n",
        "| :--------: | :----------: | :------------: | :-------------------: | :------------: |\n",
        "| BFS        | 17           | 14919          | 3537                  | 0.3049s        |\n",
        "| IDS        | 17           | 151182 (37246) | 39764 (9239)          | 3.0607s        |\n",
        "| A*         | 17           | 11289          | 3002                  | 0.3622s        |"
      ]
    },
    {
      "cell_type": "markdown",
      "metadata": {
        "id": "dYYQJpOzZ0Ee"
      },
      "source": [
        "### test 3"
      ]
    },
    {
      "cell_type": "markdown",
      "metadata": {
        "id": "tKut7-G2Z0Ee"
      },
      "source": [
        "| Algorithm  | Answer Depth | Visited States | Unique Visited States | Execution time |\n",
        "| :--------: | :----------: | :------------: | :-------------------: | :------------: |\n",
        "| BFS        | 20           | 9691           | 2522                  | 0.1777s        |\n",
        "| IDS        | 20           | 160408 (15646) | 45705 (4362)          | 2.9035s        |\n",
        "| A*         | 20           | 6080           | 1814                  | 0.1781s        |"
      ]
    },
    {
      "cell_type": "markdown",
      "metadata": {
        "id": "5STOjagRZ0Ee"
      },
      "source": [
        "### test 4"
      ]
    },
    {
      "cell_type": "markdown",
      "metadata": {
        "id": "bZoYL-ZeZ0Ee"
      },
      "source": [
        "| Algorithm  | Answer Depth | Visited States | Unique Visited States | Execution time |\n",
        "| :--------: | :----------: | :------------: | :-------------------: | :------------: |\n",
        "| BFS        | 17           | 49466          | 11087                 | 0.8730s        |\n",
        "| IDS        | 17           | 380146 (62933) | 92534 (15508)         | 6.9473s        |\n",
        "| A*         | 17           | 17903          | 4973                  | 0.4953s        |"
      ]
    },
    {
      "cell_type": "markdown",
      "metadata": {
        "id": "7vkBQqktZ0Ee"
      },
      "source": [
        "### test 5"
      ]
    },
    {
      "cell_type": "markdown",
      "metadata": {
        "id": "MjGm8CklZ0Ee"
      },
      "source": [
        "| Algorithm  | Answer Depth | Visited States | Unique Visited States | Execution time |\n",
        "| :--------: | :----------: | :------------: | :-------------------: | :------------: |\n",
        "| BFS        | 13           | 1017           | 335                   | 0.0333s        |\n",
        "| IDS        | 13           | 9883 (1667)    | 3078 (525)            | 0.2171s        |\n",
        "| A*         | 13           | 701            | 240                   | 0.0310s        |"
      ]
    },
    {
      "cell_type": "markdown",
      "metadata": {
        "id": "vU39Iyb4Z0Ee"
      },
      "source": [
        "## Diagrams"
      ]
    },
    {
      "cell_type": "code",
      "execution_count": null,
      "metadata": {
        "id": "Gt0mdKmNZ0Ee"
      },
      "outputs": [],
      "source": [
        "from matplotlib import pyplot as plt"
      ]
    },
    {
      "cell_type": "markdown",
      "metadata": {
        "id": "FmEZacJRZ0Ee"
      },
      "source": [
        "### BFS"
      ]
    },
    {
      "cell_type": "code",
      "execution_count": null,
      "metadata": {
        "colab": {
          "base_uri": "https://localhost:8080/",
          "height": 295
        },
        "id": "81_LGZ__Z0Ef",
        "outputId": "48e3fa63-20f8-4215-86a5-0d63e9b7faf2"
      },
      "outputs": [
        {
          "output_type": "display_data",
          "data": {
            "text/plain": [
              "<Figure size 432x288 with 1 Axes>"
            ],
            "image/png": "[encoded data removed]"
          },
          "metadata": {
            "needs_background": "light"
          }
        }
      ],
      "source": [
        "depths = [13, 17, 17, 20, 33]\n",
        "times = [0.0333, 0.3049, 0.8730, 0.1777, 12.9154]\n",
        "\n",
        "plt.xlabel(\"Depth\")\n",
        "plt.ylabel(\"Time (s)\")\n",
        "plt.title(\"Depth and Time Diagram for Tests with BFS\")\n",
        "\n",
        "plt.plot(depths, times, '-o')\n",
        "plt.show()"
      ]
    },
    {
      "cell_type": "markdown",
      "metadata": {
        "id": "rTLxZs4pZ0Ef"
      },
      "source": [
        "### IDS"
      ]
    },
    {
      "cell_type": "code",
      "execution_count": null,
      "metadata": {
        "colab": {
          "base_uri": "https://localhost:8080/",
          "height": 295
        },
        "id": "w5ccRgcZZ0Ef",
        "outputId": "e8a57d3a-5db1-4297-84ad-f81c6b7d87ea"
      },
      "outputs": [
        {
          "output_type": "display_data",
          "data": {
            "text/plain": [
              "<Figure size 432x288 with 1 Axes>"
            ],
            "image/png": "[encoded data removed]"
          },
          "metadata": {
            "needs_background": "light"
          }
        }
      ],
      "source": [
        "depths = [13, 17, 17, 20, 33]\n",
        "times = [0.2171, 3.0607, 6.9473, 2.9035, 387.1376]\n",
        "\n",
        "plt.xlabel(\"Depth\")\n",
        "plt.ylabel(\"Time (s)\")\n",
        "plt.title(\"Depth and Time Diagram for Tests with IDS\")\n",
        "\n",
        "plt.plot(depths, times, '-o')\n",
        "plt.show()"
      ]
    },
    {
      "cell_type": "markdown",
      "metadata": {
        "id": "GPF8i06SZ0Ef"
      },
      "source": [
        "### A*"
      ]
    },
    {
      "cell_type": "code",
      "execution_count": null,
      "metadata": {
        "colab": {
          "base_uri": "https://localhost:8080/",
          "height": 295
        },
        "id": "OzxyT-DuZ0Ef",
        "outputId": "7adfbd6a-116d-419a-be7b-3d15bbb0c646"
      },
      "outputs": [
        {
          "output_type": "display_data",
          "data": {
            "text/plain": [
              "<Figure size 432x288 with 1 Axes>"
            ],
            "image/png": "[encoded data removed]"
          },
          "metadata": {
            "needs_background": "light"
          }
        }
      ],
      "source": [
        "depths = [13, 17, 17, 20, 33]\n",
        "times = [0.0310, 0.3622, 0.4953, 0.1781, 17.8117]\n",
        "\n",
        "plt.xlabel(\"Depth\")\n",
        "plt.ylabel(\"Time (s)\")\n",
        "plt.title(\"Depth and Time Diagram for Tests with A*\")\n",
        "\n",
        "plt.plot(depths, times, '-o')\n",
        "plt.show()"
      ]
    },
    {
      "cell_type": "markdown",
      "metadata": {
        "id": "WbcwUc0kZ0Ef"
      },
      "source": [
        "## Conclusion\n",
        "As we can see, BFS and IDS algorithms always find the optimal solution if path costs are equal to 1. Both BFS and IDS algorithms have time complexity of O($b^d$). IDS takes more time in comparison to BFS since It revisits some states on each iteration of algorithm on specified depth. On the other hand IDS only uses memory space of O(b.d) which is too much more efficient than BFS which uses O($b^d$) memory space. A* with an admissible and consistent heuristic always finds the optimal path in minimum steps. In all tests A* has expanded less states to find the optimal path. Due to optimality in all algorithms number of steps to reach the goal is equal to the optimal number of steps to reach the goal which is shown in tables."
      ]
    }
  ],
  "metadata": {
    "colab": {
      "provenance": []
    },
    "kernelspec": {
      "display_name": "Python 3",
      "language": "python",
      "name": "python3"
    },
    "language_info": {
      "codemirror_mode": {
        "name": "ipython",
        "version": 3
      },
      "file_extension": ".py",
      "mimetype": "text/x-python",
      "name": "python",
      "nbconvert_exporter": "python",
      "pygments_lexer": "ipython3",
      "version": "3.6.8"
    }
  },
  "nbformat": 4,
  "nbformat_minor": 0
}